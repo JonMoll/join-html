{
 "cells": [
  {
   "cell_type": "code",
   "execution_count": 1,
   "metadata": {},
   "outputs": [],
   "source": [
    "import re"
   ]
  },
  {
   "cell_type": "code",
   "execution_count": 2,
   "metadata": {},
   "outputs": [],
   "source": [
    "def replace(line, regex_path, tag_start, tag_end):\n",
    "    regex_indent = r'^\\s*<'\n",
    "    num_spaces = re.search(regex_indent, line).group()\n",
    "    num_spaces = len(num_spaces) - 1\n",
    "    indent_outside = ' ' * num_spaces\n",
    "    indent_inside = ' ' * 2\n",
    "\n",
    "    if tag_start is None or tag_end is None:\n",
    "        indent_inside = ''\n",
    "\n",
    "    path = re.search(regex_path, line).group(1)\n",
    "    with open(path, 'r') as f:\n",
    "        lines_file = f.readlines()\n",
    "\n",
    "    lines_file = [f'{indent_outside}{indent_inside}{l}' for l in lines_file]\n",
    "\n",
    "    if tag_start is not None and tag_end is not None:\n",
    "        lines_file = [f'{indent_outside}{tag_start}\\n'] + lines_file\n",
    "        lines_file = lines_file + [f'{indent_outside}{tag_end}\\n']\n",
    "\n",
    "    comment = f'<!-- start: \"{path}\" -->'\n",
    "    lines_file = [f'{indent_outside}{comment}\\n'] + lines_file\n",
    "    comment = f'<!-- end: \"{path}\" -->'\n",
    "    lines_file = lines_file + [f'{indent_outside}{comment}\\n']\n",
    "\n",
    "    lines_file = ''.join(lines_file)\n",
    "\n",
    "    return lines_file\n",
    "\n",
    "patterns = {\n",
    "    'style': {\n",
    "        'regex_tag': r'^\\s*<link\\s+rel=\"stylesheet\"\\s+href=\"\\.[^\"]*\">\\s*$',\n",
    "        'regex_path': r'href=\"(.+)\"',\n",
    "        'tag_start': '<style type=\"text/css\">',\n",
    "        'tag_end': '</style>',\n",
    "    },\n",
    "    'script': {\n",
    "        'regex_tag': r'^\\s*<script\\s+type=\"text\\/javascript\"\\s+src=\"\\.[^\"]*\"><\\/script>\\s*$',\n",
    "        'regex_path': r'src=\"(.+)\"',\n",
    "        'tag_start': '<script type=\"text/javascript\">',\n",
    "        'tag_end': '</script>',\n",
    "    },\n",
    "    'html': {\n",
    "        'regex_tag': r'^\\s*<object\\s+type=\"text\\/html\"\\s+data=\"\\.[^\"]*\"><\\/object>\\s*$',\n",
    "        'regex_path': r'data=\"(.+)\"',\n",
    "        'tag_start': None,\n",
    "        'tag_end': None,\n",
    "    },\n",
    "}"
   ]
  },
  {
   "cell_type": "code",
   "execution_count": 3,
   "metadata": {},
   "outputs": [],
   "source": [
    "path = './index.html'\n",
    "with open(path, 'r') as f:\n",
    "    lines_html = f.readlines()"
   ]
  },
  {
   "cell_type": "code",
   "execution_count": 4,
   "metadata": {},
   "outputs": [],
   "source": [
    "for i, line in enumerate(lines_html):\n",
    "    for group in patterns:\n",
    "        regex_tag = patterns[group]['regex_tag']\n",
    "        regex_path = patterns[group]['regex_path']\n",
    "        tag_start = patterns[group]['tag_start']\n",
    "        tag_end = patterns[group]['tag_end']\n",
    "\n",
    "        if re.match(regex_tag, line):\n",
    "            lines_file = replace(line, regex_path, tag_start, tag_end)\n",
    "            lines_html[i] = lines_file"
   ]
  },
  {
   "cell_type": "code",
   "execution_count": 5,
   "metadata": {},
   "outputs": [],
   "source": [
    "path = './app.html'\n",
    "with open(path, 'w') as f:\n",
    "    for line in lines_html:\n",
    "        f.write(line)"
   ]
  }
 ],
 "metadata": {
  "kernelspec": {
   "display_name": "Python 3",
   "language": "python",
   "name": "python3"
  },
  "language_info": {
   "codemirror_mode": {
    "name": "ipython",
    "version": 3
   },
   "file_extension": ".py",
   "mimetype": "text/x-python",
   "name": "python",
   "nbconvert_exporter": "python",
   "pygments_lexer": "ipython3",
   "version": "3.10.10"
  },
  "orig_nbformat": 4
 },
 "nbformat": 4,
 "nbformat_minor": 2
}
